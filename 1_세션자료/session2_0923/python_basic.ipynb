{
 "cells": [
  {
   "cell_type": "markdown",
   "id": "9d51956c-aac5-4fd1-85ed-f9f750f09913",
   "metadata": {
    "tags": []
   },
   "source": [
    "# 1. 자료형"
   ]
  },
  {
   "cell_type": "markdown",
   "id": "1f8c2a09-39ad-4a34-9d43-e01864a3b8f5",
   "metadata": {
    "tags": []
   },
   "source": [
    "## 자료입력"
   ]
  },
  {
   "cell_type": "markdown",
   "id": "dfd7cef9-c3c2-41eb-bc1b-8b75c3f70519",
   "metadata": {},
   "source": [
    "### (1) string"
   ]
  },
  {
   "cell_type": "markdown",
   "id": "b42d8c09-4fd9-4d54-a6ea-72b64676a1f7",
   "metadata": {},
   "source": [
    "string은 파이썬이 '문자열'로 인식하는 자료를 의미합니다."
   ]
  },
  {
   "cell_type": "code",
   "execution_count": 1,
   "id": "749e1faa-ad69-4418-92d8-b0dbe0e33df7",
   "metadata": {},
   "outputs": [],
   "source": [
    "word1 = '안녕하세요'"
   ]
  },
  {
   "cell_type": "code",
   "execution_count": 2,
   "id": "0fa5c5e5-3fd7-4c33-9762-8918916de386",
   "metadata": {},
   "outputs": [
    {
     "ename": "SyntaxError",
     "evalue": "EOL while scanning string literal (3731545265.py, line 2)",
     "output_type": "error",
     "traceback": [
      "\u001b[0;36m  File \u001b[0;32m\"/var/folders/3m/s0ysqyzs3fb_mcgvm4wjzt3w0000gn/T/ipykernel_22091/3731545265.py\"\u001b[0;36m, line \u001b[0;32m2\u001b[0m\n\u001b[0;31m    word2 = 'bada에 오신걸 환영합니다\"\u001b[0m\n\u001b[0m                             ^\u001b[0m\n\u001b[0;31mSyntaxError\u001b[0m\u001b[0;31m:\u001b[0m EOL while scanning string literal\n"
     ]
    }
   ],
   "source": [
    "##string 자료형을 입력할 때는 양쪽에 따옴표 형태를 통일해 주어야 합니다.\n",
    "word2 = 'bada에 오신걸 환영합니다\"\n",
    "word3 = \"오늘의 교육내용은'"
   ]
  },
  {
   "cell_type": "code",
   "execution_count": 3,
   "id": "cdacfba9-066c-45ba-8fea-7407caad40ba",
   "metadata": {},
   "outputs": [],
   "source": [
    "word4 = \"python 기초의 이해 입니다\""
   ]
  },
  {
   "cell_type": "code",
   "execution_count": 4,
   "id": "7fa71b13-a576-4505-8356-3fa061002fb4",
   "metadata": {},
   "outputs": [],
   "source": [
    "word5 = '1000'"
   ]
  },
  {
   "cell_type": "markdown",
   "id": "08184b08-d39b-469d-ba88-25312542b18f",
   "metadata": {},
   "source": [
    "### (2) integer & float"
   ]
  },
  {
   "cell_type": "code",
   "execution_count": 5,
   "id": "ed5577f5-ad0e-467a-961d-d493c295d331",
   "metadata": {},
   "outputs": [],
   "source": [
    "## Integer는 python에서 '정수' 형태의 숫자를 나타내는 자료형입니다.\n",
    "integer1 = 1\n",
    "integer2 = -100"
   ]
  },
  {
   "cell_type": "code",
   "execution_count": 6,
   "id": "45659c58-8fea-48a1-b1fe-a1b1119652f2",
   "metadata": {},
   "outputs": [],
   "source": [
    "## Float는 python에서 '실수' 형태의 숫자를 나타내는 자료형입니다.\n",
    "float1 = 1.0\n",
    "float2 = -100.0\n",
    "float3 = 50000.067"
   ]
  },
  {
   "cell_type": "code",
   "execution_count": 7,
   "id": "45af8bb1-9a89-4d4d-861d-bc5b8b6de824",
   "metadata": {},
   "outputs": [
    {
     "name": "stdout",
     "output_type": "stream",
     "text": [
      "1.0\n"
     ]
    }
   ],
   "source": [
    "print(float1)"
   ]
  },
  {
   "cell_type": "code",
   "execution_count": 8,
   "id": "77273db0-0dbe-4010-8591-b83b75639fe2",
   "metadata": {},
   "outputs": [
    {
     "data": {
      "text/plain": [
       "2.0"
      ]
     },
     "execution_count": 8,
     "metadata": {},
     "output_type": "execute_result"
    }
   ],
   "source": [
    "## 숫자를 인식하는 두 형태를 더할 때는 자동으로 더 넓은 범위인 float(실수) 형태로 변환되어 더해집니다.\n",
    "integer1 + float1"
   ]
  },
  {
   "cell_type": "markdown",
   "id": "1a609b7b-2be0-42fa-9ea3-afd0c7c3f922",
   "metadata": {},
   "source": [
    "### (3) bool"
   ]
  },
  {
   "cell_type": "code",
   "execution_count": 9,
   "id": "0cde963c-0178-48ef-945a-a42da774ed2a",
   "metadata": {},
   "outputs": [],
   "source": [
    "bool1 = True\n",
    "bool2 = False"
   ]
  },
  {
   "cell_type": "markdown",
   "id": "fe76e395-e41e-4531-b090-637f32690894",
   "metadata": {
    "tags": []
   },
   "source": [
    "## 자료형 확인"
   ]
  },
  {
   "cell_type": "code",
   "execution_count": 10,
   "id": "6976f4ca-fa7b-4f4a-9b29-35d311fae391",
   "metadata": {},
   "outputs": [
    {
     "data": {
      "text/plain": [
       "str"
      ]
     },
     "execution_count": 10,
     "metadata": {},
     "output_type": "execute_result"
    }
   ],
   "source": [
    "##type의 활용\n",
    "type(word1)"
   ]
  },
  {
   "cell_type": "code",
   "execution_count": 11,
   "id": "a6d711cb-e44d-4687-b500-7f2b5ea56948",
   "metadata": {},
   "outputs": [
    {
     "data": {
      "text/plain": [
       "int"
      ]
     },
     "execution_count": 11,
     "metadata": {},
     "output_type": "execute_result"
    }
   ],
   "source": [
    "type(integer1)"
   ]
  },
  {
   "cell_type": "code",
   "execution_count": 12,
   "id": "0688fa26-acf9-4021-8eb4-387ff963bc56",
   "metadata": {},
   "outputs": [
    {
     "data": {
      "text/plain": [
       "float"
      ]
     },
     "execution_count": 12,
     "metadata": {},
     "output_type": "execute_result"
    }
   ],
   "source": [
    "type(float1)"
   ]
  },
  {
   "cell_type": "code",
   "execution_count": 13,
   "id": "8ec14db6-26bb-4f0a-aab6-0e512251ee6c",
   "metadata": {},
   "outputs": [
    {
     "data": {
      "text/plain": [
       "bool"
      ]
     },
     "execution_count": 13,
     "metadata": {},
     "output_type": "execute_result"
    }
   ],
   "source": [
    "type(bool1)"
   ]
  },
  {
   "cell_type": "markdown",
   "id": "101d4799-908a-45ec-a4a2-a6743a118b28",
   "metadata": {
    "tags": []
   },
   "source": [
    "## 자료형 변환"
   ]
  },
  {
   "cell_type": "code",
   "execution_count": 14,
   "id": "b1d485da-dbc3-4c17-8fe0-2fd72f9adf43",
   "metadata": {},
   "outputs": [
    {
     "data": {
      "text/plain": [
       "1000"
      ]
     },
     "execution_count": 14,
     "metadata": {},
     "output_type": "execute_result"
    }
   ],
   "source": [
    "int(word5)"
   ]
  },
  {
   "cell_type": "code",
   "execution_count": 15,
   "id": "b52b764b-b4f4-46e7-b097-0082a4b63fa9",
   "metadata": {},
   "outputs": [
    {
     "ename": "ValueError",
     "evalue": "invalid literal for int() with base 10: '안녕하세요'",
     "output_type": "error",
     "traceback": [
      "\u001b[0;31m---------------------------------------------------------------------------\u001b[0m",
      "\u001b[0;31mValueError\u001b[0m                                Traceback (most recent call last)",
      "\u001b[0;32m/var/folders/3m/s0ysqyzs3fb_mcgvm4wjzt3w0000gn/T/ipykernel_22091/4131986888.py\u001b[0m in \u001b[0;36m<module>\u001b[0;34m\u001b[0m\n\u001b[0;32m----> 1\u001b[0;31m \u001b[0mint\u001b[0m\u001b[0;34m(\u001b[0m\u001b[0mword1\u001b[0m\u001b[0;34m)\u001b[0m\u001b[0;34m\u001b[0m\u001b[0;34m\u001b[0m\u001b[0m\n\u001b[0m",
      "\u001b[0;31mValueError\u001b[0m: invalid literal for int() with base 10: '안녕하세요'"
     ]
    }
   ],
   "source": [
    "int(word1)"
   ]
  },
  {
   "cell_type": "code",
   "execution_count": 16,
   "id": "147dba9d-8c5b-4915-8e6d-020fc57e6b80",
   "metadata": {},
   "outputs": [
    {
     "data": {
      "text/plain": [
       "1000.0"
      ]
     },
     "execution_count": 16,
     "metadata": {},
     "output_type": "execute_result"
    }
   ],
   "source": [
    "float(word5)"
   ]
  },
  {
   "cell_type": "code",
   "execution_count": 17,
   "id": "21240fd7-c89b-4542-b2b8-36eaf1833678",
   "metadata": {},
   "outputs": [
    {
     "data": {
      "text/plain": [
       "1"
      ]
     },
     "execution_count": 17,
     "metadata": {},
     "output_type": "execute_result"
    }
   ],
   "source": [
    "int(float1)"
   ]
  },
  {
   "cell_type": "code",
   "execution_count": 18,
   "id": "95cd5ff3-a485-45fc-981f-1f47b1155d45",
   "metadata": {},
   "outputs": [
    {
     "data": {
      "text/plain": [
       "50000"
      ]
     },
     "execution_count": 18,
     "metadata": {},
     "output_type": "execute_result"
    }
   ],
   "source": [
    "##float형 자료를 int형으로 변환하게 되면 소숫점 뒷자리들이 사라지게 된다.\n",
    "int(float3)"
   ]
  },
  {
   "cell_type": "code",
   "execution_count": 19,
   "id": "a5f1ef56-5e7e-4cbf-afee-a8ac47ac77b3",
   "metadata": {},
   "outputs": [
    {
     "data": {
      "text/plain": [
       "1"
      ]
     },
     "execution_count": 19,
     "metadata": {},
     "output_type": "execute_result"
    }
   ],
   "source": [
    "int(bool1)"
   ]
  },
  {
   "cell_type": "code",
   "execution_count": 20,
   "id": "555a785d-95b0-4545-9422-d38cf96e6374",
   "metadata": {},
   "outputs": [
    {
     "data": {
      "text/plain": [
       "0"
      ]
     },
     "execution_count": 20,
     "metadata": {},
     "output_type": "execute_result"
    }
   ],
   "source": [
    "int(bool2)"
   ]
  },
  {
   "cell_type": "code",
   "execution_count": 21,
   "id": "beeead23-59d1-41f9-90bf-7df075d36472",
   "metadata": {},
   "outputs": [
    {
     "data": {
      "text/plain": [
       "True"
      ]
     },
     "execution_count": 21,
     "metadata": {},
     "output_type": "execute_result"
    }
   ],
   "source": [
    "bool(integer1)"
   ]
  },
  {
   "cell_type": "code",
   "execution_count": 22,
   "id": "ac999435-a647-446c-b4f3-fe8e77e1c55d",
   "metadata": {},
   "outputs": [
    {
     "data": {
      "text/plain": [
       "True"
      ]
     },
     "execution_count": 22,
     "metadata": {},
     "output_type": "execute_result"
    }
   ],
   "source": [
    "bool(integer2)"
   ]
  },
  {
   "cell_type": "code",
   "execution_count": 23,
   "id": "27a48f92-b2b5-451c-be02-4704f49a0f66",
   "metadata": {},
   "outputs": [
    {
     "data": {
      "text/plain": [
       "False"
      ]
     },
     "execution_count": 23,
     "metadata": {},
     "output_type": "execute_result"
    }
   ],
   "source": [
    "bool(0)"
   ]
  },
  {
   "cell_type": "code",
   "execution_count": 73,
   "id": "4b5d45bd-6a75-4160-ace9-d7102ad4bc82",
   "metadata": {},
   "outputs": [
    {
     "data": {
      "text/plain": [
       "True"
      ]
     },
     "execution_count": 73,
     "metadata": {},
     "output_type": "execute_result"
    }
   ],
   "source": [
    "bool(-5000)"
   ]
  },
  {
   "cell_type": "markdown",
   "id": "77b845a3-b88c-4b24-889d-e0d1c952c9b3",
   "metadata": {},
   "source": [
    "오직 0 만이 bool로 변환했을 때 False 값을 출력한다"
   ]
  },
  {
   "cell_type": "code",
   "execution_count": 24,
   "id": "bcc32d7b-3205-4a8f-b855-d7c1d82c5aef",
   "metadata": {},
   "outputs": [
    {
     "data": {
      "text/plain": [
       "'안녕하세요python 기초의 이해 입니다'"
      ]
     },
     "execution_count": 24,
     "metadata": {},
     "output_type": "execute_result"
    }
   ],
   "source": [
    "word1 + word4"
   ]
  },
  {
   "cell_type": "code",
   "execution_count": 25,
   "id": "aed93d28-291b-4b99-adf5-0e261d4664eb",
   "metadata": {},
   "outputs": [
    {
     "data": {
      "text/plain": [
       "'안녕하세요 python 기초의 이해 입니다'"
      ]
     },
     "execution_count": 25,
     "metadata": {},
     "output_type": "execute_result"
    }
   ],
   "source": [
    "word1 + ' ' + word4"
   ]
  },
  {
   "cell_type": "code",
   "execution_count": 26,
   "id": "55da949a-034e-4de1-9321-2dba00769ab7",
   "metadata": {},
   "outputs": [
    {
     "data": {
      "text/plain": [
       "['python', '기초의', '이해', '입니다']"
      ]
     },
     "execution_count": 26,
     "metadata": {},
     "output_type": "execute_result"
    }
   ],
   "source": [
    "word4.split()"
   ]
  },
  {
   "cell_type": "code",
   "execution_count": 27,
   "id": "b38eb247-302f-4a90-809a-9c3279d3ee02",
   "metadata": {},
   "outputs": [
    {
     "data": {
      "text/plain": [
       "['python ', '초의 이해 입니다']"
      ]
     },
     "execution_count": 27,
     "metadata": {},
     "output_type": "execute_result"
    }
   ],
   "source": [
    "word4.split('기')"
   ]
  },
  {
   "cell_type": "code",
   "execution_count": 28,
   "id": "e451f0c7-adbf-479d-bf95-a2b653cd26c6",
   "metadata": {},
   "outputs": [],
   "source": [
    "intro_list = word4.split()"
   ]
  },
  {
   "cell_type": "code",
   "execution_count": 29,
   "id": "6aa8692b-04a0-494c-adee-3d308879ca3c",
   "metadata": {},
   "outputs": [
    {
     "data": {
      "text/plain": [
       "'python 기초의 이해 입니다'"
      ]
     },
     "execution_count": 29,
     "metadata": {},
     "output_type": "execute_result"
    }
   ],
   "source": [
    "' '.join(intro_list)"
   ]
  },
  {
   "cell_type": "code",
   "execution_count": 30,
   "id": "69c60843-40bd-485c-8dc9-0307b92a5fe7",
   "metadata": {},
   "outputs": [
    {
     "data": {
      "text/plain": [
       "12"
      ]
     },
     "execution_count": 30,
     "metadata": {},
     "output_type": "execute_result"
    }
   ],
   "source": [
    "int(''.join(['1', '2']))"
   ]
  },
  {
   "cell_type": "markdown",
   "id": "c2b63884-afef-48ac-9821-b9d47a92976b",
   "metadata": {},
   "source": [
    "## 연산자"
   ]
  },
  {
   "cell_type": "code",
   "execution_count": 62,
   "id": "43581f37-3607-40b9-8cd5-3aa80b650528",
   "metadata": {},
   "outputs": [],
   "source": [
    "num1 = 9\n",
    "num2 = 4"
   ]
  },
  {
   "cell_type": "code",
   "execution_count": 66,
   "id": "533ef47e-319b-47c8-acba-c59a2329bf73",
   "metadata": {},
   "outputs": [
    {
     "name": "stdout",
     "output_type": "stream",
     "text": [
      "13\n",
      "5\n",
      "36\n",
      "2.25\n"
     ]
    }
   ],
   "source": [
    "#사칙연산\n",
    "#더하기\n",
    "print(num1 + num2)\n",
    "#빼기\n",
    "print(num1 - num2)\n",
    "#곱하기\n",
    "print(num1 * num2)\n",
    "#나누기\n",
    "print(num1 / num2)"
   ]
  },
  {
   "cell_type": "code",
   "execution_count": 68,
   "id": "08ce4824-a28b-47a5-896b-d5752c35196c",
   "metadata": {},
   "outputs": [
    {
     "name": "stdout",
     "output_type": "stream",
     "text": [
      "2\n",
      "2\n"
     ]
    }
   ],
   "source": [
    "## 나눗셈에서 몫만 가져오는 방법\n",
    "print(int(num1/num2))\n",
    "print(num1 // num2)"
   ]
  },
  {
   "cell_type": "code",
   "execution_count": 70,
   "id": "756714e8-f627-402c-913e-ae2ee61dbafe",
   "metadata": {},
   "outputs": [
    {
     "name": "stdout",
     "output_type": "stream",
     "text": [
      "1\n"
     ]
    }
   ],
   "source": [
    "## 나눗셈에서 나머지만 가져오기\n",
    "print(num1 % num2)"
   ]
  },
  {
   "cell_type": "code",
   "execution_count": 72,
   "id": "47a537dc-7546-484b-be13-81174c09475e",
   "metadata": {},
   "outputs": [
    {
     "data": {
      "text/plain": [
       "6561"
      ]
     },
     "execution_count": 72,
     "metadata": {},
     "output_type": "execute_result"
    }
   ],
   "source": [
    "## 승수 표시하기 9의 4승\n",
    "(num1 ** num2)"
   ]
  },
  {
   "cell_type": "markdown",
   "id": "7dce48a9-f4b2-43c2-aa9d-6ac29b5605b3",
   "metadata": {},
   "source": [
    "# 2. List 와 Dictionary"
   ]
  },
  {
   "cell_type": "markdown",
   "id": "b6cdcc3e-92c5-437c-bfea-4b6136ae4b42",
   "metadata": {
    "tags": []
   },
   "source": [
    "## List"
   ]
  },
  {
   "cell_type": "code",
   "execution_count": 31,
   "id": "a577a0a0-7181-412b-b66c-6eb087a72e38",
   "metadata": {},
   "outputs": [],
   "source": [
    "#List는 대괄호 형태 안에 원소를 담는 형태로 구성된다.\n",
    "list1 = [1,2,3,4,5,6]\n",
    "list2 = list(range(7))"
   ]
  },
  {
   "cell_type": "code",
   "execution_count": 32,
   "id": "b433ec0a-bd49-4c9a-8aa6-52bed4fad6cc",
   "metadata": {},
   "outputs": [
    {
     "data": {
      "text/plain": [
       "[1, 2, 3, 4, 5, 6]"
      ]
     },
     "execution_count": 32,
     "metadata": {},
     "output_type": "execute_result"
    }
   ],
   "source": [
    "list1"
   ]
  },
  {
   "cell_type": "code",
   "execution_count": 33,
   "id": "8279dc3a-67b0-4367-9f91-1e14aa1fa548",
   "metadata": {},
   "outputs": [
    {
     "data": {
      "text/plain": [
       "[0, 1, 2, 3, 4, 5, 6]"
      ]
     },
     "execution_count": 33,
     "metadata": {},
     "output_type": "execute_result"
    }
   ],
   "source": [
    "list2"
   ]
  },
  {
   "cell_type": "code",
   "execution_count": 34,
   "id": "c7c30089-9531-4462-bfd9-0b0e3e88e33f",
   "metadata": {},
   "outputs": [],
   "source": [
    "list3 = list(range(0,7,2))"
   ]
  },
  {
   "cell_type": "code",
   "execution_count": 35,
   "id": "7ad0ded7-5ddd-4b1e-957e-f445d09b465f",
   "metadata": {},
   "outputs": [
    {
     "data": {
      "text/plain": [
       "[0, 2, 4, 6]"
      ]
     },
     "execution_count": 35,
     "metadata": {},
     "output_type": "execute_result"
    }
   ],
   "source": [
    "list3"
   ]
  },
  {
   "cell_type": "code",
   "execution_count": 36,
   "id": "4183cd1c-6c7c-4252-9846-b16e0d1b2693",
   "metadata": {},
   "outputs": [],
   "source": [
    "list4 = ['bada', 2, '기 여러분', \"환영합니다\"]"
   ]
  },
  {
   "cell_type": "code",
   "execution_count": 37,
   "id": "2ec403af-0aaf-4800-bf76-710a16d1b43b",
   "metadata": {},
   "outputs": [
    {
     "data": {
      "text/plain": [
       "['bada', 2, '기 여러분', '환영합니다']"
      ]
     },
     "execution_count": 37,
     "metadata": {},
     "output_type": "execute_result"
    }
   ],
   "source": [
    "list4"
   ]
  },
  {
   "cell_type": "code",
   "execution_count": 38,
   "id": "ddea2f7c-083f-443b-b616-9a42c34158b8",
   "metadata": {},
   "outputs": [
    {
     "ename": "TypeError",
     "evalue": "sequence item 1: expected str instance, int found",
     "output_type": "error",
     "traceback": [
      "\u001b[0;31m---------------------------------------------------------------------------\u001b[0m",
      "\u001b[0;31mTypeError\u001b[0m                                 Traceback (most recent call last)",
      "\u001b[0;32m/var/folders/3m/s0ysqyzs3fb_mcgvm4wjzt3w0000gn/T/ipykernel_22091/2793500082.py\u001b[0m in \u001b[0;36m<module>\u001b[0;34m\u001b[0m\n\u001b[0;32m----> 1\u001b[0;31m \u001b[0;34m' '\u001b[0m\u001b[0;34m.\u001b[0m\u001b[0mjoin\u001b[0m\u001b[0;34m(\u001b[0m\u001b[0mlist4\u001b[0m\u001b[0;34m)\u001b[0m \u001b[0;31m## join은 문자열을 합치는 것\u001b[0m\u001b[0;34m\u001b[0m\u001b[0;34m\u001b[0m\u001b[0m\n\u001b[0m",
      "\u001b[0;31mTypeError\u001b[0m: sequence item 1: expected str instance, int found"
     ]
    }
   ],
   "source": [
    "' '.join(list4) ## join은 문자열을 합치는 것"
   ]
  },
  {
   "cell_type": "markdown",
   "id": "45e5d544-a3b2-4ec7-8cc6-929676998fa5",
   "metadata": {},
   "source": [
    "### 원소 호출"
   ]
  },
  {
   "cell_type": "code",
   "execution_count": 39,
   "id": "60c94141-d625-4fcf-a1eb-18fd31137431",
   "metadata": {},
   "outputs": [
    {
     "data": {
      "text/plain": [
       "'bada'"
      ]
     },
     "execution_count": 39,
     "metadata": {},
     "output_type": "execute_result"
    }
   ],
   "source": [
    "#python는 index를 0부터 시작한다.\n",
    "list4[0]"
   ]
  },
  {
   "cell_type": "code",
   "execution_count": 40,
   "id": "bcd81809-7e7d-4357-874f-f7d79be3eaef",
   "metadata": {},
   "outputs": [
    {
     "data": {
      "text/plain": [
       "2"
      ]
     },
     "execution_count": 40,
     "metadata": {},
     "output_type": "execute_result"
    }
   ],
   "source": [
    "list4[1]"
   ]
  },
  {
   "cell_type": "code",
   "execution_count": 41,
   "id": "f6d1573a-de46-401a-9ab6-794c03433835",
   "metadata": {},
   "outputs": [
    {
     "data": {
      "text/plain": [
       "['bada', 2]"
      ]
     },
     "execution_count": 41,
     "metadata": {},
     "output_type": "execute_result"
    }
   ],
   "source": [
    "## 다양한 원소를 프린트 하고 싶은경우,\n",
    "list4[0:2]"
   ]
  },
  {
   "cell_type": "code",
   "execution_count": 42,
   "id": "c2468610-08d1-4ff8-8c9e-e82cc10af9ba",
   "metadata": {},
   "outputs": [
    {
     "data": {
      "text/plain": [
       "2"
      ]
     },
     "execution_count": 42,
     "metadata": {},
     "output_type": "execute_result"
    }
   ],
   "source": [
    "#print를 활용하지 않으면 python은 마지막에 입력된 코드에 있는 것만 출력해준다\n",
    "list4[0]\n",
    "list4[1]"
   ]
  },
  {
   "cell_type": "code",
   "execution_count": 43,
   "id": "a2ea3243-378c-48e5-9abf-4049530c8f52",
   "metadata": {},
   "outputs": [
    {
     "name": "stdout",
     "output_type": "stream",
     "text": [
      "bada\n"
     ]
    },
    {
     "data": {
      "text/plain": [
       "2"
      ]
     },
     "execution_count": 43,
     "metadata": {},
     "output_type": "execute_result"
    }
   ],
   "source": [
    "print(list4[0])\n",
    "list4[1]"
   ]
  },
  {
   "cell_type": "markdown",
   "id": "9fd32928-189e-46ff-9072-414848a9fd45",
   "metadata": {
    "tags": []
   },
   "source": [
    "## Dictionary"
   ]
  },
  {
   "cell_type": "code",
   "execution_count": 44,
   "id": "a303a652-5376-44f4-a243-086366fefa7d",
   "metadata": {},
   "outputs": [],
   "source": [
    "## Dictionary는 Key값과 Value 값으로 구성된다.\n",
    "## Dictionary는 중괄호{}로 선언한다.\n",
    "Dictionary1 = {'bada 운영진' : ['김지욱', '김종현', '조용준', '조수현', '김수민', '안가을', '강현우'], 'bada 2기 학회원' : ['오지민', '최혜온', '김정현', '김정민', '박소현', '이정수', '권소현', '이현정', '최용진', '박서정', '김수은', '송태훈'], }"
   ]
  },
  {
   "cell_type": "code",
   "execution_count": 45,
   "id": "6a26a439-f3e8-4516-8518-d64798ad765c",
   "metadata": {},
   "outputs": [
    {
     "data": {
      "text/plain": [
       "['김지욱', '김종현', '조용준', '조수현', '김수민', '안가을', '강현우']"
      ]
     },
     "execution_count": 45,
     "metadata": {},
     "output_type": "execute_result"
    }
   ],
   "source": [
    "## Dictionary의 Key 값을 중심으로 해당 내용을 호출할 수 있다.\n",
    "Dictionary1['bada 운영진']"
   ]
  },
  {
   "cell_type": "code",
   "execution_count": 46,
   "id": "0e075620-7728-45ff-a75d-2209e607ed98",
   "metadata": {},
   "outputs": [
    {
     "data": {
      "text/plain": [
       "['오지민',\n",
       " '최혜온',\n",
       " '김정현',\n",
       " '김정민',\n",
       " '박소현',\n",
       " '이정수',\n",
       " '권소현',\n",
       " '이현정',\n",
       " '최용진',\n",
       " '박서정',\n",
       " '김수은',\n",
       " '송태훈']"
      ]
     },
     "execution_count": 46,
     "metadata": {},
     "output_type": "execute_result"
    }
   ],
   "source": [
    "Dictionary1['bada 2기 학회원']"
   ]
  },
  {
   "cell_type": "code",
   "execution_count": 47,
   "id": "ad13f994-2b2f-43e9-9cec-f494956e68f3",
   "metadata": {},
   "outputs": [],
   "source": [
    "## Dictionary를 좀더 쉽게 구성하려면 미리 List를 구성해도 좋다.\n",
    "Member_list1 = ['김지욱', '김종현', '조용준', '조수현', '김수민', '안가을', '강현우']\n",
    "Member_list2 = ['오지민', '최혜온', '김정현', '김정민', '박소현', '이정수', '권소현', '이현정', '최용진', '박서정', '김수은', '송태훈']\n",
    "Department2 = ['수학과', '경영학과', '경영학과', '중어중문학과', '경영학과', '사회학과', '식품자원경제학과', '경영학과', '컴퓨터학과', '경영학과', '통계학과', '경영학과']"
   ]
  },
  {
   "cell_type": "code",
   "execution_count": 48,
   "id": "9f4a9d67-ca3b-4b4c-b405-87603a40c530",
   "metadata": {},
   "outputs": [],
   "source": [
    "Dictionary2 = {'bada 운영진' : Member_list1, 'bada 2기 학회원' : Member_list2, '소속학과' : Department2}"
   ]
  },
  {
   "cell_type": "code",
   "execution_count": 49,
   "id": "ad8c9fd5-f970-4698-a5b9-c4f3af846181",
   "metadata": {},
   "outputs": [
    {
     "data": {
      "text/plain": [
       "['김지욱', '김종현', '조용준', '조수현', '김수민', '안가을', '강현우']"
      ]
     },
     "execution_count": 49,
     "metadata": {},
     "output_type": "execute_result"
    }
   ],
   "source": [
    "Dictionary2['bada 운영진']"
   ]
  },
  {
   "cell_type": "code",
   "execution_count": 50,
   "id": "603fcef3-5dcc-4c6a-9136-5464f4b2a87b",
   "metadata": {},
   "outputs": [
    {
     "data": {
      "text/plain": [
       "['오지민',\n",
       " '최혜온',\n",
       " '김정현',\n",
       " '김정민',\n",
       " '박소현',\n",
       " '이정수',\n",
       " '권소현',\n",
       " '이현정',\n",
       " '최용진',\n",
       " '박서정',\n",
       " '김수은',\n",
       " '송태훈']"
      ]
     },
     "execution_count": 50,
     "metadata": {},
     "output_type": "execute_result"
    }
   ],
   "source": [
    "Dictionary2['bada 2기 학회원']"
   ]
  },
  {
   "cell_type": "code",
   "execution_count": 51,
   "id": "39b3e860-f797-4937-a4c5-0bfd4b7d862f",
   "metadata": {},
   "outputs": [
    {
     "data": {
      "text/plain": [
       "['수학과',\n",
       " '경영학과',\n",
       " '경영학과',\n",
       " '중어중문학과',\n",
       " '경영학과',\n",
       " '사회학과',\n",
       " '식품자원경제학과',\n",
       " '경영학과',\n",
       " '컴퓨터학과',\n",
       " '경영학과',\n",
       " '통계학과',\n",
       " '경영학과']"
      ]
     },
     "execution_count": 51,
     "metadata": {},
     "output_type": "execute_result"
    }
   ],
   "source": [
    "Dictionary2['소속학과']"
   ]
  },
  {
   "cell_type": "markdown",
   "id": "181dc8d5-1498-4216-bab0-2f20219eb4b6",
   "metadata": {},
   "source": [
    "# 3. 반복문"
   ]
  },
  {
   "cell_type": "markdown",
   "id": "6557863b-6809-4a88-b182-308e5ac23f66",
   "metadata": {
    "tags": []
   },
   "source": [
    "## for 문"
   ]
  },
  {
   "cell_type": "code",
   "execution_count": 52,
   "id": "f81f6c81-06f7-4fa9-b314-c9a0cb19866b",
   "metadata": {},
   "outputs": [
    {
     "name": "stdout",
     "output_type": "stream",
     "text": [
      "수학과\n",
      "경영학과\n",
      "경영학과\n",
      "중어중문학과\n",
      "경영학과\n",
      "사회학과\n",
      "식품자원경제학과\n",
      "경영학과\n",
      "컴퓨터학과\n",
      "경영학과\n",
      "통계학과\n",
      "경영학과\n"
     ]
    }
   ],
   "source": [
    "## for 문은 (for n in 범위 :) 형태로 (범위에 있는 각 n에 대해여)라는 뜻.\n",
    "## 범위 안에 있는 각 원소를 첫번째 원소부터 차례대로 진행되며, 마지막 원소까지 가면 자동으로 반복문이 종료된다.\n",
    "\n",
    "for D in Department2:\n",
    "    print(D)"
   ]
  },
  {
   "cell_type": "markdown",
   "id": "ee2b80bc-a760-4377-bf21-28aeeab167a1",
   "metadata": {
    "tags": []
   },
   "source": [
    "## while 문"
   ]
  },
  {
   "cell_type": "code",
   "execution_count": 53,
   "id": "180ba3d0-471d-4c30-8e8d-89f9ac9358ca",
   "metadata": {},
   "outputs": [
    {
     "name": "stdout",
     "output_type": "stream",
     "text": [
      "수학과\n",
      "경영학과\n",
      "경영학과\n",
      "중어중문학과\n",
      "경영학과\n",
      "사회학과\n",
      "식품자원경제학과\n",
      "경영학과\n",
      "컴퓨터학과\n",
      "경영학과\n",
      "통계학과\n",
      "경영학과\n"
     ]
    }
   ],
   "source": [
    "## while문은 (while (조건) :) 의 형태로 (조건이 '참'인동안)의 뜻.\n",
    "##'조건'이 '참'인동안 수행되며, 조건이 거짓이 되면 종료된다.\n",
    "\n",
    "i = 0\n",
    "number = len(Department2)\n",
    "while i < number:\n",
    "    print(Department2[i])\n",
    "    \n",
    "    i = i + 1"
   ]
  },
  {
   "cell_type": "markdown",
   "id": "03194f68-d018-42d7-96ae-2ffe83418f3d",
   "metadata": {
    "tags": []
   },
   "source": [
    "# 4. 조건문 "
   ]
  },
  {
   "cell_type": "markdown",
   "id": "70c21799-7c8c-4051-8d90-9c1e0c257540",
   "metadata": {},
   "source": [
    "반복문과 결합하여 조건문을 살펴보자"
   ]
  },
  {
   "cell_type": "code",
   "execution_count": 54,
   "id": "00db56be-7613-4c1f-9eed-f62ed5586230",
   "metadata": {},
   "outputs": [
    {
     "data": {
      "text/plain": [
       "6"
      ]
     },
     "execution_count": 54,
     "metadata": {},
     "output_type": "execute_result"
    }
   ],
   "source": [
    "checking_num = 0\n",
    "\n",
    "for n in Department2:\n",
    "    if n == '경영학과':\n",
    "        checking_num = checking_num + 1\n",
    "\n",
    "checking_num"
   ]
  },
  {
   "cell_type": "code",
   "execution_count": 55,
   "id": "afe47cd7-ace5-41cb-a981-8cfb97a3865d",
   "metadata": {},
   "outputs": [
    {
     "name": "stdout",
     "output_type": "stream",
     "text": [
      "6\n",
      "6\n"
     ]
    }
   ],
   "source": [
    "business_num = 0\n",
    "other_department = 0\n",
    "\n",
    "\n",
    "for n in Department2:\n",
    "    if n == '경영학과':\n",
    "        business_num = business_num + 1\n",
    "    else:\n",
    "        other_department = other_department + 1\n",
    "        \n",
    "\n",
    "print(business_num)\n",
    "print(other_department)"
   ]
  },
  {
   "cell_type": "code",
   "execution_count": 56,
   "id": "a8c09fd6-ad61-437d-9be9-742b3e505a9a",
   "metadata": {},
   "outputs": [
    {
     "name": "stdout",
     "output_type": "stream",
     "text": [
      "['최혜온', '김정현', '박소현', '이현정', '박서정', '송태훈']\n",
      "['오지민', '김정민', '이정수', '권소현', '최용진', '김수은']\n"
     ]
    }
   ],
   "source": [
    "##while 문\n",
    "## while 문은 해당 원소의 index를 사용하는 경우가 많아, index만 알고 있다면 다른 리스트의 원소도 추출해낼 수 있다.\n",
    "\n",
    "i2 = 0\n",
    "length = len(Department2)\n",
    "\n",
    "people_from_business = []\n",
    "people_from_other_department = []\n",
    "\n",
    "while i2 < length:\n",
    "    if Department2[i2] == '경영학과':\n",
    "        people_from_business.append(Member_list2[i2])\n",
    "    else:\n",
    "        people_from_other_department.append(Member_list2[i2])\n",
    "        \n",
    "    i2 = i2 + 1\n",
    "    \n",
    "print(people_from_business)\n",
    "print(people_from_other_department)"
   ]
  },
  {
   "cell_type": "code",
   "execution_count": 57,
   "id": "8d516665-92fa-48a8-b3a5-2e41fcfb1b99",
   "metadata": {},
   "outputs": [
    {
     "name": "stdout",
     "output_type": "stream",
     "text": [
      "['최혜온', '김정현', '박소현', '이현정', '박서정', '송태훈']\n",
      "['오지민', '김정민', '이정수', '권소현', '최용진', '김수은']\n"
     ]
    }
   ],
   "source": [
    "i2 = 0\n",
    "length = len(Department2)\n",
    "\n",
    "people_from_business = []\n",
    "people_from_other_department = []\n",
    "\n",
    "while i2 < length:\n",
    "    if Department2[i2] == '경영학과':\n",
    "        people_from_business.append(Member_list2[i2])\n",
    "    elif Department2[i2] != '경영학과':\n",
    "        people_from_other_department.append(Member_list2[i2])\n",
    "        \n",
    "    i2 = i2 + 1\n",
    "    \n",
    "print(people_from_business)\n",
    "print(people_from_other_department)"
   ]
  },
  {
   "cell_type": "code",
   "execution_count": 61,
   "id": "d84ad6b9-afe4-4c16-ba9b-7a0fac8777e5",
   "metadata": {},
   "outputs": [
    {
     "name": "stdout",
     "output_type": "stream",
     "text": [
      "['최혜온']\n",
      "['오지민']\n"
     ]
    }
   ],
   "source": [
    "i2 = 0\n",
    "length = len(Department2)\n",
    "\n",
    "people_from_business = []\n",
    "people_from_other_department = []\n",
    "\n",
    "while i2 < length:\n",
    "    if Department2[i2] == '경영학과':\n",
    "        people_from_business.append(Member_list2[i2])\n",
    "        break\n",
    "    elif Department2[i2] != '경영학과':\n",
    "        people_from_other_department.append(Member_list2[i2])\n",
    "        \n",
    "    i2 = i2 + 1\n",
    "    \n",
    "print(people_from_business)\n",
    "print(people_from_other_department)"
   ]
  },
  {
   "cell_type": "code",
   "execution_count": 59,
   "id": "349fdc5f-0747-475d-a23b-19498965b7df",
   "metadata": {},
   "outputs": [
    {
     "name": "stdin",
     "output_type": "stream",
     "text": [
      "수를 입력하세요 : \n",
      " 3\n"
     ]
    }
   ],
   "source": [
    "how_to_input = input('수를 입력하세요 : \\n')\n",
    "## 여기서 입력받은 값은 str 자료형으로 들어가니, 자신이 원하느 형태의 자료형에 따라 자료형 변환을 시켜주어야 한다."
   ]
  },
  {
   "cell_type": "markdown",
   "id": "6d3f4691-dc94-4ff7-9870-990cedae367e",
   "metadata": {},
   "source": [
    "## 문제를 풀어봅시다"
   ]
  },
  {
   "cell_type": "markdown",
   "id": "8dc35e4e-9810-4221-9f01-707f10485321",
   "metadata": {},
   "source": [
    "while 문과 if 문을 결합하면 while True: 문을 사용할 수도 있다.\n",
    "\n",
    "다음의 문제를 풀어보자(출처 : 2022 1학기 COSE102 컴퓨터 프로그래밍2 2분반 수업자료)\n",
    " 독일의 수학자 로타르 콜라츠는 아래와 같은 추측을 하였다.\n",
    " \"어떤 수가 있을 때, 이 수가 짝수면 2로 나누고, 홀수면 3을 곱한후 1을 더한다. 이 과정을 반복하다보면 반드시 1이 나오지 않을까\"\n",
    "\n",
    "아래의 입출력 예시가 나오도록 작성하시오( 입력한 자료는 3)"
   ]
  },
  {
   "cell_type": "code",
   "execution_count": 52,
   "id": "09d955ff-3afd-4b1e-bc59-dabafb75d132",
   "metadata": {
    "tags": []
   },
   "outputs": [
    {
     "name": "stdin",
     "output_type": "stream",
     "text": [
      "수를 입력하세요 :  3\n"
     ]
    },
    {
     "name": "stdout",
     "output_type": "stream",
     "text": [
      "10\n",
      "5\n",
      "16\n",
      "8\n",
      "4\n",
      "2\n",
      "1\n",
      "역시 콜라츠는 대단하네요.\n"
     ]
    }
   ],
   "source": [
    "a = input('수를 입력하세요 : ')\n",
    "a = int(a) ## input은 입력 받은 자료를 string 형태로 저장하기 때문에 숫자를 입력하는 경우에는 int로 자료형을 다시 변환해주어야 한다.\n",
    "\n",
    "while True:\n",
    "    if a == 1:\n",
    "        break\n",
    "    elif (a%2) == 0:\n",
    "        a = int(a/2)\n",
    "    else:\n",
    "        a = int((a*3) + 1)\n",
    "    print(a)\n",
    "    \n",
    "print('역시 콜라츠는 대단하네요.')\n",
    "\n",
    "    "
   ]
  },
  {
   "cell_type": "markdown",
   "id": "baed585a-3c5e-4f59-b902-35cf8dae8195",
   "metadata": {
    "tags": []
   },
   "source": [
    "# 5. 함수"
   ]
  },
  {
   "cell_type": "markdown",
   "id": "cd57842e-21f3-4aa4-97ca-c1f626f494d8",
   "metadata": {},
   "source": [
    "사용하고자 하는 기능을 함수로 정해두고 그것을 호출하여 사용하여보자"
   ]
  },
  {
   "cell_type": "markdown",
   "id": "f58f2233-5622-4a3f-8b6b-c12318459c72",
   "metadata": {},
   "source": [
    "위의 콜라츠 문제를 함수로 정의해보자"
   ]
  },
  {
   "cell_type": "code",
   "execution_count": 53,
   "id": "1a7c7a0f-1e46-4d24-bc42-f35fc1664931",
   "metadata": {
    "tags": []
   },
   "outputs": [],
   "source": [
    "def Collatz(k):\n",
    "    while True:\n",
    "        if k == 1:\n",
    "            break\n",
    "        elif (k%2) == 0:\n",
    "            k = int(k/2)\n",
    "        else:\n",
    "            k = int((k*3) + 1)\n",
    "        print(k)\n",
    "    \n",
    "    print('역시 콜라츠는 대단하네요.')\n",
    "\n",
    "    "
   ]
  },
  {
   "cell_type": "code",
   "execution_count": 54,
   "id": "8effdb7e-8906-46a5-b63b-5d4bfa910ad3",
   "metadata": {},
   "outputs": [
    {
     "name": "stdout",
     "output_type": "stream",
     "text": [
      "10\n",
      "5\n",
      "16\n",
      "8\n",
      "4\n",
      "2\n",
      "1\n",
      "역시 콜라츠는 대단하네요.\n"
     ]
    }
   ],
   "source": [
    "Collatz(3)"
   ]
  },
  {
   "cell_type": "code",
   "execution_count": 55,
   "id": "e94bd8f1-7d88-4443-92f1-2af12720aa05",
   "metadata": {},
   "outputs": [
    {
     "name": "stdout",
     "output_type": "stream",
     "text": [
      "20\n",
      "10\n",
      "5\n",
      "16\n",
      "8\n",
      "4\n",
      "2\n",
      "1\n",
      "역시 콜라츠는 대단하네요.\n"
     ]
    }
   ],
   "source": [
    "Collatz(40)"
   ]
  },
  {
   "cell_type": "code",
   "execution_count": 56,
   "id": "41965e74-dfc8-417a-b6ab-de1386d1a506",
   "metadata": {},
   "outputs": [],
   "source": [
    "def Collatz2(k):\n",
    "    while True:\n",
    "        if k == 1:\n",
    "            break\n",
    "        elif (k%2) == 0:\n",
    "            k = int(k/2)\n",
    "        else:\n",
    "            k = int((k*3) + 1)\n",
    "        print(k)\n",
    "    \n",
    "    return print('역시 콜라츠는 대단하네요.')\n",
    "    \n",
    "    print('bada')\n",
    "    "
   ]
  },
  {
   "cell_type": "code",
   "execution_count": 57,
   "id": "623c1848-ab4a-4e7a-a6b7-08a1d628ec81",
   "metadata": {},
   "outputs": [
    {
     "name": "stdout",
     "output_type": "stream",
     "text": [
      "10\n",
      "5\n",
      "16\n",
      "8\n",
      "4\n",
      "2\n",
      "1\n",
      "역시 콜라츠는 대단하네요.\n"
     ]
    }
   ],
   "source": [
    "Collatz2(3)"
   ]
  },
  {
   "cell_type": "markdown",
   "id": "70ce272f-6321-4977-b269-e4d50efb556a",
   "metadata": {},
   "source": [
    "return은 함수가 어떠한 값을 반환할지를 정해주는 역할을 함과 동시에 return 이후의 함수 내의 코드는 무시하도록 하는 역할도 한다.\n",
    "\n",
    "만약 return과 반복문을 사용할 경우 주의해야한다."
   ]
  },
  {
   "cell_type": "code",
   "execution_count": 58,
   "id": "1dfc3c48-f3b6-4715-95dc-18375d34b87f",
   "metadata": {},
   "outputs": [],
   "source": [
    "def Bada_member(k):\n",
    "    i = 0\n",
    "    while i < k:\n",
    "        return Member_list2[i]\n",
    "        i = i + 1"
   ]
  },
  {
   "cell_type": "code",
   "execution_count": 59,
   "id": "c649c9d0-4953-4670-bc52-29168c773b77",
   "metadata": {},
   "outputs": [
    {
     "data": {
      "text/plain": [
       "'오지민'"
      ]
     },
     "execution_count": 59,
     "metadata": {},
     "output_type": "execute_result"
    }
   ],
   "source": [
    "Bada_member(5)"
   ]
  },
  {
   "cell_type": "markdown",
   "id": "e7d6ec43-07e3-4d26-b981-4661bd8dec9c",
   "metadata": {},
   "source": [
    "Q. 여기서 i에 저장되어 있는 값은?"
   ]
  },
  {
   "cell_type": "code",
   "execution_count": 60,
   "id": "2c27c536-2b30-4399-a5be-b80943acc7e5",
   "metadata": {},
   "outputs": [],
   "source": [
    "def Bada_member2(k):\n",
    "    i = 0\n",
    "    while i < k:\n",
    "        print(Member_list2[i])\n",
    "        i = i + 1"
   ]
  },
  {
   "cell_type": "code",
   "execution_count": 61,
   "id": "af2efa45-b02d-4a4c-8083-cf5d79aacb97",
   "metadata": {},
   "outputs": [
    {
     "name": "stdout",
     "output_type": "stream",
     "text": [
      "오지민\n",
      "최혜온\n",
      "김정현\n",
      "김정민\n",
      "박소현\n"
     ]
    }
   ],
   "source": [
    "Bada_member2(5)"
   ]
  },
  {
   "cell_type": "markdown",
   "id": "a2d0d8d1-c792-4198-be35-77f84939d515",
   "metadata": {
    "tags": []
   },
   "source": [
    "# 6. Class "
   ]
  },
  {
   "cell_type": "markdown",
   "id": "46f3d539-5dea-4552-9250-7ec78e3d4db9",
   "metadata": {
    "tags": []
   },
   "source": [
    "초보자는 알려하면 다칩니다"
   ]
  },
  {
   "cell_type": "markdown",
   "id": "716e1afa-2db6-4ee3-81e5-84971d84f083",
   "metadata": {},
   "source": [
    "# Assignment"
   ]
  },
  {
   "cell_type": "markdown",
   "id": "faef4758-4b63-4595-8207-c128dd22cdcf",
   "metadata": {},
   "source": [
    "각 학회원의 이름의 첫번째글자들을 1-12번째 원소로 하고 2번째글자를 13-24번째 원소, 세번째 글자를 25-36번째 원소로 하는 List를 만드는 중첩문을 만들어보자\n",
    "\n",
    "그 list의 중복값을 제거하고 사전 순서로 정렬을 해보자"
   ]
  },
  {
   "cell_type": "code",
   "execution_count": 70,
   "id": "cc230ed1-1dca-40b5-ba91-3a54e933336b",
   "metadata": {},
   "outputs": [
    {
     "name": "stdout",
     "output_type": "stream",
     "text": [
      "['오', '최', '김', '김', '박', '이', '권', '이', '최', '박', '김', '송', '지', '혜', '정', '정', '소', '정', '소', '현', '용', '서', '수', '태', '민', '온', '현', '민', '현', '수', '현', '정', '진', '정', '은', '훈']\n",
      "['권', '김', '민', '박', '서', '소', '송', '수', '오', '온', '용', '은', '이', '정', '지', '진', '최', '태', '현', '혜', '훈']\n"
     ]
    }
   ],
   "source": [
    "a_i = 0\n",
    "abnormal_list = []\n",
    "\n",
    "while a_i < 3:\n",
    "    for x in Member_list2:\n",
    "        abnormal_list.append(x[a_i])\n",
    "    \n",
    "    a_i = a_i + 1\n",
    "    \n",
    "print(abnormal_list)\n",
    "\n",
    "the_set = set(abnormal_list)\n",
    "the_list = sorted(list(the_set))\n",
    "\n",
    "print(the_list)"
   ]
  }
 ],
 "metadata": {
  "kernelspec": {
   "display_name": "Python 3 (ipykernel)",
   "language": "python",
   "name": "python3"
  },
  "language_info": {
   "codemirror_mode": {
    "name": "ipython",
    "version": 3
   },
   "file_extension": ".py",
   "mimetype": "text/x-python",
   "name": "python",
   "nbconvert_exporter": "python",
   "pygments_lexer": "ipython3",
   "version": "3.9.7"
  }
 },
 "nbformat": 4,
 "nbformat_minor": 5
}

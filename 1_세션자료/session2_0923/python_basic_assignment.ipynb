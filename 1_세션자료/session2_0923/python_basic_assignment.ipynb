{
 "cells": [
  {
   "cell_type": "markdown",
   "id": "7606ab32-f6c1-4462-b9d4-3c477fc32c27",
   "metadata": {},
   "source": [
    "# Assignment"
   ]
  },
  {
   "cell_type": "markdown",
   "id": "0d63b2c0-17bd-4850-8d9b-b9dcf2903a86",
   "metadata": {},
   "source": [
    "각 학회원의 이름의 첫번째글자들을 1-12번째 원소로 하고 2번째글자를 13-24번째 원소, 세번째 글자를 25-36번째 원소로 하는 List를 만드는 중첩문을 만들어보자\n",
    "\n",
    "list는 \n",
    "Member_list = ['오지민', '최혜온', '김정현', '김정민', '박소현', '이정수', '권소현', '이현정', '최용진', '박서정', '김수은', '송태훈']\n",
    "를 활용하자\n",
    "\n",
    "그 list의 중복값을 제거하고 사전 순서로 정렬을 해보자\n",
    "\n",
    "set()\n",
    "sort\n",
    "sorted()\n",
    "를 검색해보고 그 역할을 알아보자"
   ]
  },
  {
   "cell_type": "code",
   "execution_count": 2,
   "id": "cba6201a-2947-4e26-90ca-2580272a1722",
   "metadata": {
    "jupyter": {
     "source_hidden": true
    },
    "tags": []
   },
   "outputs": [],
   "source": [
    "Member_list = ['오지민', '최혜온', '김정현', '김정민', '박소현', '이정수', '권소현', '이현정', '최용진', '박서정', '김수은', '송태훈']"
   ]
  },
  {
   "cell_type": "code",
   "execution_count": 3,
   "id": "ce828ed9-48e2-46d1-8e22-0ae9119c7143",
   "metadata": {
    "jupyter": {
     "source_hidden": true
    },
    "tags": []
   },
   "outputs": [
    {
     "name": "stdout",
     "output_type": "stream",
     "text": [
      "['오', '최', '김', '김', '박', '이', '권', '이', '최', '박', '김', '송', '지', '혜', '정', '정', '소', '정', '소', '현', '용', '서', '수', '태', '민', '온', '현', '민', '현', '수', '현', '정', '진', '정', '은', '훈']\n",
      "['권', '김', '민', '박', '서', '소', '송', '수', '오', '온', '용', '은', '이', '정', '지', '진', '최', '태', '현', '혜', '훈']\n"
     ]
    }
   ],
   "source": [
    "a_i = 0\n",
    "abnormal_list = []\n",
    "\n",
    "while a_i < 3:\n",
    "    for x in Member_list:\n",
    "        abnormal_list.append(x[a_i])\n",
    "    \n",
    "    a_i = a_i + 1\n",
    "    \n",
    "print(abnormal_list)\n",
    "\n",
    "the_set = set(abnormal_list)\n",
    "the_list = sorted(list(the_set))\n",
    "\n",
    "print(the_list)"
   ]
  }
 ],
 "metadata": {
  "kernelspec": {
   "display_name": "Python 3 (ipykernel)",
   "language": "python",
   "name": "python3"
  },
  "language_info": {
   "codemirror_mode": {
    "name": "ipython",
    "version": 3
   },
   "file_extension": ".py",
   "mimetype": "text/x-python",
   "name": "python",
   "nbconvert_exporter": "python",
   "pygments_lexer": "ipython3",
   "version": "3.9.7"
  }
 },
 "nbformat": 4,
 "nbformat_minor": 5
}

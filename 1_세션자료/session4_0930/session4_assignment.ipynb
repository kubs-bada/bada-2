{
 "cells": [
  {
   "cell_type": "markdown",
   "metadata": {},
   "source": [
    "## Assignment - 사이킷런 타이타닉 생존자 예측\n",
    "* https://www.kaggle.com/c/titanic/data 에 접속하여 train.csv 파일을 다운받아 주세요"
   ]
  },
  {
   "cell_type": "code",
   "execution_count": null,
   "metadata": {},
   "outputs": [],
   "source": [
    "import numpy as np\n",
    "import pandas as pd\n",
    "import matplotlib.pyplot as plt\n",
    "import seaborn as sns\n",
    "%matplotlib inline\n",
    "\n",
    "titanic_df = pd.read_csv('./train.csv')\n",
    "titanic_df.head()"
   ]
  },
  {
   "cell_type": "markdown",
   "metadata": {},
   "source": [
    "1. 'Age'칼럼의 결측치를 Age 평균으로 채워주세요\n",
    "2. 'Cabin', 'Embarked' 칼럼의 결측치는 N으로 채워주세요\n",
    "3. Cabin의 경우에는 알파벳 첫 글자만 남도록 전처리해주세요\n",
    "\n",
    "(하단에 코드 작성)"
   ]
  },
  {
   "cell_type": "code",
   "execution_count": null,
   "metadata": {},
   "outputs": [],
   "source": [
    "# 코드 작성"
   ]
  },
  {
   "cell_type": "markdown",
   "metadata": {},
   "source": [
    "3. 머신러닝 알고리즘에 불필요한 속성을 제거해주세요 (PassengerId, Name, Ticket)\n",
    "4. Cabin, Sex, Embarked 속성에 대해 레이블 인코딩을 진행해주세요\n",
    "\n",
    "(하단에 코드 작성)"
   ]
  },
  {
   "cell_type": "code",
   "execution_count": null,
   "metadata": {},
   "outputs": [],
   "source": [
    "# 코드 작성"
   ]
  },
  {
   "cell_type": "markdown",
   "metadata": {},
   "source": [
    "5. Survived 칼럼이 제외된 데이터프레임과, Survived 칼럼만이 존재하는 데이터프레임으로 분할해주세요\n",
    "6. train_test_split을 활용하여 train data와 test data를 분할해주세요 (random_state=11, test_size=0.2)\n",
    "\n",
    "(하단에 코드 작성)"
   ]
  },
  {
   "cell_type": "code",
   "execution_count": null,
   "metadata": {},
   "outputs": [],
   "source": [
    "# 코드 작성"
   ]
  },
  {
   "cell_type": "markdown",
   "metadata": {},
   "source": [
    "7. DecisionTreeClassifier를 이용하여 학습/예측/평가를 진행하세요\n",
    "8. RandomForestClassifier를 이용하여 학습/예측/평가를 진행하세요\n",
    "9. LogisticRegression를 이용하여 학습/예측/평가를 진행하세요\n",
    "\n",
    "(평가에는 accuracy_score 모듈을 이용해주세요)"
   ]
  },
  {
   "cell_type": "code",
   "execution_count": null,
   "metadata": {},
   "outputs": [],
   "source": [
    "# 코드 작성"
   ]
  },
  {
   "cell_type": "markdown",
   "metadata": {},
   "source": [
    "10. cross_val_score 모듈을 활용하여 교차검증을 진행하세요(각 교차 검증의 정확도를 출력하고, 평균 정확도를 출력하세요. cv=5)"
   ]
  },
  {
   "cell_type": "code",
   "execution_count": null,
   "metadata": {},
   "outputs": [],
   "source": [
    "# 코드 작성"
   ]
  }
 ],
 "metadata": {
  "language_info": {
   "name": "python"
  },
  "orig_nbformat": 4
 },
 "nbformat": 4,
 "nbformat_minor": 2
}
